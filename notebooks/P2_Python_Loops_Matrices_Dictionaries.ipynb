{
 "cells": [
  {
   "cell_type": "markdown",
   "metadata": {
    "id": "516Ip-B7RQNL"
   },
   "source": [
    "## Welcome Back and Review\n",
    "\n",
    "Welcome back to the world of Python!\n",
    "\n",
    "Last lesson, we covered topics such as variables, input/output, conditionals, lists, and loops. In this lesson, we'll expand on those topics by talking about 2D lists (also known as matrices) and nested loops (loops within loops), and we'll cover new topics such as importing libraries and using functions.\n",
    "\n",
    "Let's jump right into coding with a quick review example!\n",
    "\n",
    "![alt text](https://media.giphy.com/media/3oKIPnAiaMCws8nOsE/giphy.gif)\n",
    "\n"
   ]
  },
  {
   "cell_type": "markdown",
   "metadata": {
    "id": "DgN7uVbwXnHx"
   },
   "source": [
    "Write a program that takes an integer input and prints the factorial of that integer. You can assume the input will always be a positive integer.\n",
    "\n",
    "For those who have not seen factorials before, it is the product of an integer and every positive integer below it. We usually represent factorials by writing the number followed by an exclamation mark. \"Five factorial\" would be $ 5! $, which written out is:\n",
    "\n",
    "$$ 5! = 1 * 2 * 3 * 4 * 5 = 120 $$\n",
    "\n",
    "An example run of this program might look like:\n",
    "\n",
    "```\n",
    "Input an integer: 5\n",
    "The factorial is: 120\n",
    "```\n",
    "\n",
    "Be sure to use a loop (either `for` or `while`) to accomplish this task!"
   ]
  },
  {
   "cell_type": "code",
   "execution_count": null,
   "metadata": {
    "id": "1CsuI7k7Wq0Z"
   },
   "outputs": [],
   "source": [
    "# To get you started, the line to get input is provided below\n",
    "number = int(input(\"Input an integer: \"))"
   ]
  },
  {
   "cell_type": "markdown",
   "metadata": {
    "id": "It8igJ-LeiOB"
   },
   "source": [
    "## Debugging\n",
    "\n",
    "In this lesson, we'll start to shift from reading code to writing more code. When writing code, we often run into errors or end up with programs that might not run exactly as we wanted. This is ok! In fact, all of the best programmers in the world still make errors and mistakes in their code.\n",
    "\n",
    "One of the tools in a programmer's toolbox is figuring out how to look for errors, or \"bugs\", in their code. The process of finding and removing bugs in your code is called **debugging**, and from computer science folklore, the origin of this word comes from legendary computer scientist Grace Hopper, who once found an actual moth in her computer (back when they were the size of rooms) that caused an error in its calculations.\n",
    "\n",
    "![alt text](http://www.pitt.edu/~super1/lecture/lec44911/img019.JPG)"
   ]
  },
  {
   "cell_type": "markdown",
   "metadata": {
    "id": "ZnZ113AQfzUt"
   },
   "source": [
    "Let's look at the following code block. It's intended to print out the numbers from 1 to 5, but something's wrong. Can you debug it and figure out what needs to be changed?"
   ]
  },
  {
   "cell_type": "code",
   "execution_count": null,
   "metadata": {
    "id": "316euGkXf_NH"
   },
   "outputs": [],
   "source": [
    "for num in range(1,5):\n",
    "  print(num)"
   ]
  },
  {
   "cell_type": "markdown",
   "metadata": {
    "id": "-uvBwayhgFgx"
   },
   "source": [
    "Sometimes bugs are hard to find, and it's helpful to add print statements to see what the values of certain variables are at that point in time. Say we want to write a program that takes in an word input and checks if the characters `un` were found in that input:"
   ]
  },
  {
   "cell_type": "code",
   "execution_count": null,
   "metadata": {
    "id": "6ID5TtK_gldV"
   },
   "outputs": [],
   "source": [
    "# There's an error in this program -- can you spot it?\n",
    "check = 'um'\n",
    "\n",
    "# Pretend that there were hundreds of lines of code here\n",
    "# So that the lines you see above\n",
    "# And the lines you see below\n",
    "# Aren't right next to each other\n",
    "# You might look to find an error in the code below\n",
    "# But it turns out the bug is somewhere else...\n",
    "\n",
    "word = input(\"Input a word: \")\n",
    "\n",
    "if check in word:\n",
    "  print(\"Found 'un'!\")"
   ]
  },
  {
   "cell_type": "markdown",
   "metadata": {
    "id": "Us6wtWCMhqec"
   },
   "source": [
    "If we run the code and input the word `unimportant`, we should expect the output `Found 'un'!`.\n",
    "\n",
    "However, it doesn't work as expected, because there's a typo that makes the program do something else. \n",
    "\n",
    "When we think there's a bug with our program, we can add a print statement as a check for ourselves. Run the program below and input a word:\n"
   ]
  },
  {
   "cell_type": "code",
   "execution_count": null,
   "metadata": {
    "id": "H1AMEuELjMlV"
   },
   "outputs": [],
   "source": [
    "# There's an error in this program -- can you spot it?\n",
    "check = 'um'\n",
    "\n",
    "# Pretend that there were hundreds of lines of code here\n",
    "# So that the lines you see above\n",
    "# And the lines you see below\n",
    "# Aren't right next to each other\n",
    "# You might look to find an error in the code below\n",
    "# But it turns out the bug is somewhere else...\n",
    "\n",
    "word = input(\"Input a word: \")\n",
    "\n",
    "# Added this line to make sure that we're checking for 'un'\n",
    "print(\"We're actually looking for\", check)\n",
    "\n",
    "if check in word:\n",
    "  print(\"Found 'un'!\")"
   ]
  },
  {
   "cell_type": "markdown",
   "metadata": {
    "id": "MBMX46wcjlkD"
   },
   "source": [
    "When we run the program this time, our print statement tells us that we're actually looking for the characters `um` and not `un`. This might help us realize we had made a typo much earlier in the program, so that we go look for it and fix the typo.\n",
    "\n",
    "In this example, it might have been easy to spot the typo since there's not a lot of code in the program. But when programs start to get to hundreds or even thousands of lines long, typos might be harder to catch. Printing what your variables are every now and then can be useful as a debugging tool!\n",
    "\n",
    "Just be sure to remove the debugging print statements you added once you're done, because they likely are not part of the output you want to show a user."
   ]
  },
  {
   "cell_type": "code",
   "execution_count": null,
   "metadata": {
    "id": "rYCjkch0muyZ"
   },
   "outputs": [],
   "source": [
    "# The program, without the debug line, with the typo fixed\n",
    "check = 'un'\n",
    "\n",
    "# Pretend that there were hundreds of lines of code here...\n",
    "\n",
    "word = input(\"Input a word:\")\n",
    "\n",
    "if check in word:\n",
    "  print(\"Found 'un'!\")"
   ]
  },
  {
   "cell_type": "markdown",
   "metadata": {
    "id": "UlTCjJHenC2i"
   },
   "source": [
    "If all of this seems confusing at first, no worries! Debugging is a skill that takes practice, which you'll have lots of in this lesson."
   ]
  },
  {
   "cell_type": "markdown",
   "metadata": {
    "id": "wFMV78AAQnmu"
   },
   "source": [
    "## Nested Loops\n",
    "\n",
    "In all examples from the first lesson, we only used a single loop at a time, like you see below:"
   ]
  },
  {
   "cell_type": "code",
   "execution_count": null,
   "metadata": {
    "id": "h5UdW2jBZcDa"
   },
   "outputs": [],
   "source": [
    "for num in range(5):\n",
    "  print(\"We're going to repeat this 5 times!\")"
   ]
  },
  {
   "cell_type": "markdown",
   "metadata": {
    "id": "cGL7mxgVZn_W"
   },
   "source": [
    "Remember that the placeholder variable (`placeholder` in the following example) is automatically updated each time the loop runs:"
   ]
  },
  {
   "cell_type": "code",
   "execution_count": null,
   "metadata": {
    "id": "ZvmifHK_Z66w"
   },
   "outputs": [],
   "source": [
    "for placeholder in range(1, 6):\n",
    "  print(\"This is iteration #\",placeholder,\"of this loop\")"
   ]
  },
  {
   "cell_type": "markdown",
   "metadata": {
    "id": "wuO8UPA7aFtx"
   },
   "source": [
    "Also remember that every line immediately after the `for` that we indent is looped, but once we un-indent, we're outside of the loop. What would the following example print?"
   ]
  },
  {
   "cell_type": "code",
   "execution_count": null,
   "metadata": {
    "id": "MOD9xeqhaYGq"
   },
   "outputs": [],
   "source": [
    "lis = [\"coffee\", \"tea\", \"boba\"]\n",
    "\n",
    "for item in lis:\n",
    "  print(\"I like the following item:\")\n",
    "  print(item)\n",
    "print(\"That's the whole list!\")"
   ]
  },
  {
   "cell_type": "markdown",
   "metadata": {
    "id": "xFxs3Uarauuw"
   },
   "source": [
    "Sometimes, it's useful for us to have a loop inside of a loop. For example, if we had a list of words and wanted to print each 5 times, how would we do this?"
   ]
  },
  {
   "cell_type": "code",
   "execution_count": null,
   "metadata": {
    "id": "vyCnwvhxa9m0"
   },
   "outputs": [],
   "source": [
    "lis = [\"taro\", \"wintermelon\", \"passion fruit\"]\n",
    "\n",
    "for item in lis:\n",
    "  for num in range(5):\n",
    "    print(item)"
   ]
  },
  {
   "cell_type": "markdown",
   "metadata": {
    "id": "UVisQ70PbPpf"
   },
   "source": [
    "A quick note that there's a different way of doing this using multiplication, but the example above illustrates how we can use a loop inside of a loop, otherwise known as a **nested loop**.\n",
    "\n",
    "But what exactly is going on?\n",
    "\n",
    "Let's add some print statements to try to understand how the two loops work:"
   ]
  },
  {
   "cell_type": "code",
   "execution_count": null,
   "metadata": {
    "id": "EBDYWz9RbtUC"
   },
   "outputs": [],
   "source": [
    "lis = [\"taro\", \"wintermelon\", \"passion fruit\"]\n",
    "\n",
    "for item in lis:\n",
    "  print(\"We're back outside to the top of the outer loop. The item we're looking at now is\", item)\n",
    "  for num in range(5):\n",
    "    print(\"Inner loop, iteration #\",num)\n",
    "    print(item)"
   ]
  },
  {
   "cell_type": "markdown",
   "metadata": {
    "id": "dL8wxXB8cG1A"
   },
   "source": [
    "This might look like a lot at first! But take a breath, and try to follow the code, line by line, to see which line prints which statement.\n",
    "\n",
    "The key thing to remember is that the inner loop will repeat 5 times before it's finished. Once it's finished, we'll get to the end of the outer loop, and the outer loop will repeat.\n",
    "\n",
    "Said differently, remember that the outer loop will not repeat until the inner loop is done repeating.\n",
    "\n",
    "Here's another example. Try to follow the code and the loops and **write down** what it would print before running it:"
   ]
  },
  {
   "cell_type": "code",
   "execution_count": null,
   "metadata": {
    "id": "KE07ngmRdX3_"
   },
   "outputs": [],
   "source": [
    "for a in range(1, 3):\n",
    "  print(a)\n",
    "  for b in range(1, 3):\n",
    "    num = a + b\n",
    "    print(num)\n",
    "  print(\"Finished the inner loop, repeating the outer loop\")\n",
    "print(\"Finished both loops\")"
   ]
  },
  {
   "cell_type": "markdown",
   "metadata": {
    "id": "239GjVfpn0vm"
   },
   "source": [
    "Nested loops are extremely useful, and we'll see them a lot when working with things like tables of information. It does take some time and practice to get used to nested loops, so don't worry if they don't come naturally right away.\n",
    "\n",
    "For practice, try to write a program that prints out the multiplication table up to 10 x 10. It should look like:\n",
    "\n",
    "```\n",
    "1 2 3 4 5 6 7 8 9 10 \n",
    "2 4 6 8 10 12 14 16 18 20 \n",
    "3 6 9 12 15 18 21 24 27 30 \n",
    "4 8 12 16 20 24 28 32 36 40 \n",
    "5 10 15 20 25 30 35 40 45 50 \n",
    "6 12 18 24 30 36 42 48 54 60 \n",
    "7 14 21 28 35 42 49 56 63 70 \n",
    "8 16 24 32 40 48 56 64 72 80 \n",
    "9 18 27 36 45 54 63 72 81 90 \n",
    "10 20 30 40 50 60 70 80 90 100 \n",
    "\n",
    "```\n",
    "\n",
    "For this exercise, you'll need to be able to print without a new line happening every time you write a print statement. Here's an example of that:"
   ]
  },
  {
   "cell_type": "code",
   "execution_count": null,
   "metadata": {
    "colab": {
     "base_uri": "https://localhost:8080/",
     "height": 191
    },
    "id": "gU-KApL4Tqqd",
    "outputId": "c7775e50-05af-4525-ad86-deb6f8240108"
   },
   "outputs": [],
   "source": [
    "for i in range(1,11):\n",
    "  for j in range(1,11): \n",
    "    print(i*j,end=' ')\n",
    "  print()"
   ]
  },
  {
   "cell_type": "code",
   "execution_count": null,
   "metadata": {
    "id": "iSORg3rfo3dt"
   },
   "outputs": [],
   "source": [
    "print(\"When we print this\")\n",
    "print(\"this happens on a new line.\")\n",
    "\n",
    "print()\n",
    "print()\n",
    "\n",
    "print(\"If we want a blank line,\")\n",
    "print()\n",
    "print(\"We can just say print().\")\n",
    "\n",
    "print()\n",
    "print()\n",
    "\n",
    "print(\"But when we print and include the code that says end='', \", end='')\n",
    "print(\"the next print statement won't happen on a new line!\")"
   ]
  },
  {
   "cell_type": "markdown",
   "metadata": {
    "id": "D4sWdbPYpjEy"
   },
   "source": [
    "We need this, because it will help us print out a single line of the multiplication table. For example, let's see the difference between the following two blocks of code:"
   ]
  },
  {
   "cell_type": "code",
   "execution_count": null,
   "metadata": {
    "id": "aFxLC6xnpsgH"
   },
   "outputs": [],
   "source": [
    "for num in range(1, 11):\n",
    "  print(num)"
   ]
  },
  {
   "cell_type": "code",
   "execution_count": null,
   "metadata": {
    "id": "DXwbHppJpyfv"
   },
   "outputs": [],
   "source": [
    "for num in range(1, 11):\n",
    "  print(num, end='')"
   ]
  },
  {
   "cell_type": "markdown",
   "metadata": {
    "id": "XRB0LYKRp3bL"
   },
   "source": [
    "We use `end=''` to tell the print statement that when we finish printing, we won't tell the computer to start the next print on a new line.\n",
    "\n",
    "Notice that after printing, we don't have any spaces between the characters as well. If we instead say `end=' '`, that means that we're telling the computer to add a space after each print."
   ]
  },
  {
   "cell_type": "code",
   "execution_count": null,
   "metadata": {
    "id": "A4Bbm6iaqREd"
   },
   "outputs": [],
   "source": [
    "for num in range(1, 11):\n",
    "  print(num, end=' ')"
   ]
  },
  {
   "cell_type": "markdown",
   "metadata": {
    "id": "CQDSdOJRqUi3"
   },
   "source": [
    "How might we use this to print our multiplication table using nested loops?\n",
    "\n",
    "Think about it a bit, and give it a try. This may also be an excellent opportunity to practice debugging! Feel free to work with others:"
   ]
  },
  {
   "cell_type": "code",
   "execution_count": null,
   "metadata": {
    "id": "bBcNJaLvq7LM"
   },
   "outputs": [],
   "source": [
    "# Write your code here for printing the multiplication table, up to 10 x 10\n",
    "# You should use a nested loop\n",
    "### BEGIN CODE HERE ### \n",
    "\n",
    "### END CODE HERE ### "
   ]
  },
  {
   "cell_type": "markdown",
   "metadata": {
    "id": "GLqF_tVGRZRn"
   },
   "source": [
    "## 2D Lists and Matrices\n",
    "\n",
    "Recall lists from the previous lesson:"
   ]
  },
  {
   "cell_type": "code",
   "execution_count": null,
   "metadata": {
    "id": "dKu-qVuAsQnW"
   },
   "outputs": [],
   "source": [
    "lis = [\"element 0\", \"element 1\", \"element 2\"]\n",
    "\n",
    "for item in lis:\n",
    "  if item == \"element 1\":\n",
    "    print(\"Found element 1\")"
   ]
  },
  {
   "cell_type": "markdown",
   "metadata": {
    "id": "M_2xLMvxshnk"
   },
   "source": [
    "We know that a list can contain strings, numbers, booleans, and all other sorts of data types. But can a list contain a list? Yes!"
   ]
  },
  {
   "cell_type": "code",
   "execution_count": null,
   "metadata": {
    "id": "2DmVU7oass6q"
   },
   "outputs": [],
   "source": [
    "lis = [\"element 0\", [0, 1, 2], \"element 2\"]\n",
    "\n",
    "for item in lis:\n",
    "  print(item)\n",
    "  \n",
    "print()\n",
    "\n",
    "# Remember indexing into a list?\n",
    "# What would the following print?\n",
    "print(lis[2])"
   ]
  },
  {
   "cell_type": "markdown",
   "metadata": {
    "id": "ywoBvwT8s11N"
   },
   "source": [
    "We see that the list inside of the list is the element with index 1. If we wanted to access that list, we would do:"
   ]
  },
  {
   "cell_type": "code",
   "execution_count": null,
   "metadata": {
    "id": "3-sh-vBRtWHX"
   },
   "outputs": [],
   "source": [
    "lis = [\"element 0\", [0, 1, 2], \"element 2\"]\n",
    "\n",
    "print(lis[1])"
   ]
  },
  {
   "cell_type": "markdown",
   "metadata": {
    "id": "DpxS4P-DtZ9p"
   },
   "source": [
    "And if we wanted to loop through this list:"
   ]
  },
  {
   "cell_type": "code",
   "execution_count": null,
   "metadata": {
    "id": "OMjbvGcMtf_p"
   },
   "outputs": [],
   "source": [
    "lis = [\"element 0\", [0, 1, 2], \"element 2\"]\n",
    "\n",
    "# This works, because lis[1] is a list and we're looping over it\n",
    "for item in lis[1]:\n",
    "  print(item)"
   ]
  },
  {
   "cell_type": "markdown",
   "metadata": {
    "id": "RBcuUvwvtwaZ"
   },
   "source": [
    "Very frequently, when we work with data for artificial intelligence, it's presented to us as a table. For example, we might have something like:\n",
    "\n",
    "```\n",
    "name     favorite color\n",
    "wells    yellow\n",
    "susanna  black\n",
    "```\n",
    "\n",
    "We can code this up as a \"**2-dimensional list**\", or 2D list, which is a fancy way of calling a list where every element in it is a list.\n"
   ]
  },
  {
   "cell_type": "code",
   "execution_count": null,
   "metadata": {
    "id": "QrKNCwYJuttL"
   },
   "outputs": [],
   "source": [
    "two_d_list = [[\"name\", \"favorite color\"],\n",
    "              [\"wells\", \"yellow\"],\n",
    "              [\"susanna\", \"black\"]]"
   ]
  },
  {
   "cell_type": "markdown",
   "metadata": {
    "id": "iH3ZV1fTu9ZM"
   },
   "source": [
    "How can we print this list out? We can use a nested loop!"
   ]
  },
  {
   "cell_type": "code",
   "execution_count": null,
   "metadata": {
    "id": "iV-k4Jkfu_qY"
   },
   "outputs": [],
   "source": [
    "two_d_list = [[\"name\", \"favorite color\"],\n",
    "              [\"wells\", \"yellow\"],\n",
    "              [\"susanna\", \"black\"]]\n",
    "\n",
    "for row in two_d_list:\n",
    "  for item in row:\n",
    "    print(item, end=' ')\n",
    "  print()"
   ]
  },
  {
   "cell_type": "markdown",
   "metadata": {
    "id": "8JIYY8SevRVp"
   },
   "source": [
    "Notice that each inner list in the example above is of the same length (2 items). This doesn't always have to be the case, but when it is, we call it a **matrix**. (Plural form: Matrices)\n",
    "\n",
    "![alt text](https://media.giphy.com/media/3rVfBUa9f0RErtMZBH/giphy.gif)\n",
    "\n",
    "(The above gif is from a movie from 1999 called _The Matrix_.)\n",
    "\n",
    "We'll see matrices just about everywhere when writing programs that deal with artificial intelligence."
   ]
  },
  {
   "cell_type": "markdown",
   "metadata": {},
   "source": [
    "## Sets, tuples, and dictionaries, oh my!\n",
    "\n",
    "While integers, strings, and booleans are data types, a list is typically referred to as a **data structure**, which is a _collection_ of data that is governed by a specific set of rules for accessing, organizing, adding, and removing data.\n",
    "\n",
    "We'll make use of a few different data structures when manipulating data for machine learning -- each has its particular use cases."
   ]
  },
  {
   "cell_type": "markdown",
   "metadata": {},
   "source": [
    "### Adding to and removing from a list\n",
    "\n",
    "To get started, let's look at how we can add and remove data from a list.\n",
    "\n",
    "There are actually lots of ways to do this, like:"
   ]
  },
  {
   "cell_type": "code",
   "execution_count": null,
   "metadata": {},
   "outputs": [],
   "source": [
    "# This is an empty list\n",
    "lis = []\n",
    "\n",
    "lis.append(\"My Hero Academia\")\n",
    "lis.append(\"Your Name\")\n",
    "print(lis)"
   ]
  },
  {
   "cell_type": "markdown",
   "metadata": {},
   "source": [
    "`append()` adds an element to the end of the list. What if we wanted to insert at a specific index?"
   ]
  },
  {
   "cell_type": "code",
   "execution_count": null,
   "metadata": {},
   "outputs": [],
   "source": [
    "lis = [\"My Hero Academia\", \"Your Name\"]\n",
    "lis.insert(1, \"Totoro\")\n",
    "print(lis)"
   ]
  },
  {
   "cell_type": "code",
   "execution_count": null,
   "metadata": {},
   "outputs": [],
   "source": [
    "We can remove elements using other functions that are built-in."
   ]
  },
  {
   "cell_type": "code",
   "execution_count": null,
   "metadata": {},
   "outputs": [],
   "source": [
    "lis = [\"My Hero Academia\", \"Totoro\", \"Your Name\", \"Avatar: The Last Airbender\"]\n",
    "\n",
    "# Looks for the element \"Totoro\" and removes it\n",
    "lis.remove(\"Totoro\")\n",
    "print(lis)\n",
    "\n",
    "# Remove an element with this specific index\n",
    "lis.pop(1)\n",
    "print(lis)\n",
    "\n",
    "# Removes the last element when no parameter is given\n",
    "lis.pop()\n",
    "print(lis)"
   ]
  },
  {
   "cell_type": "markdown",
   "metadata": {},
   "source": [
    "You can also modify the elements in a list, using indexing:"
   ]
  },
  {
   "cell_type": "code",
   "execution_count": null,
   "metadata": {},
   "outputs": [],
   "source": [
    "lis = [\"My Hero Academia\", \"Totoro\", \"Your Name\"]\n",
    "lis[1] = \"Spirited Away\"\n",
    "print(lis)"
   ]
  },
  {
   "cell_type": "markdown",
   "metadata": {},
   "source": [
    "### Tuples\n",
    "\n",
    "What if you wanted a collection of data like a list where you didn't want the elements in it to be modified? you can use a tuple!\n",
    "\n",
    "In Python, we use `()` to show that we're using a tuple:"
   ]
  },
  {
   "cell_type": "code",
   "execution_count": null,
   "metadata": {},
   "outputs": [],
   "source": [
    "tup = (\"My Hero Academia\", \"Totoro\")\n",
    "print(tup)\n",
    "print(tup[0])"
   ]
  },
  {
   "cell_type": "markdown",
   "metadata": {},
   "source": [
    "The following examples will both give you an error:"
   ]
  },
  {
   "cell_type": "code",
   "execution_count": null,
   "metadata": {},
   "outputs": [],
   "source": [
    "tup = (\"My Hero Academia\", \"Totoro\")\n",
    "tup[1] = \"Spirited Away\"\n",
    "print(tup)"
   ]
  },
  {
   "cell_type": "code",
   "execution_count": null,
   "metadata": {},
   "outputs": [],
   "source": [
    "tup = (\"My Hero Academia\", \"Totoro\")\n",
    "tup.append(\"Your Name\")\n",
    "print(tup)"
   ]
  },
  {
   "cell_type": "markdown",
   "metadata": {},
   "source": [
    "Tuples are typically faster for the computer to work with than lists, and they offer a form of protection on our data by not allowing us to modify the elements in a tuple."
   ]
  },
  {
   "cell_type": "markdown",
   "metadata": {},
   "source": [
    "### Sets\n",
    "\n",
    "Another collection that we'll use to work with our data is a set, which is essentially the same as a set in math. The main difference between a set and a list is that a set is _unordered_ and _unindexed_. That is, while the order in a list matters (and we can refer to something as the 0th element in a list), the same is not true for sets.\n",
    "\n",
    "We denote sets in Python by using the curly braces: `{}`."
   ]
  },
  {
   "cell_type": "code",
   "execution_count": null,
   "metadata": {},
   "outputs": [],
   "source": [
    "some_list = [\"Item 0\", \"Item 1\"]\n",
    "some_set = {\"Some Item\", \"Another Item\"}\n",
    "\n",
    "print(some_list[1])\n",
    "\n",
    "# The following line will cause an error:\n",
    "# print(some_set[1])"
   ]
  },
  {
   "cell_type": "markdown",
   "metadata": {},
   "source": [
    "Sets also only have unique elements, while lists do not."
   ]
  },
  {
   "cell_type": "code",
   "execution_count": null,
   "metadata": {},
   "outputs": [],
   "source": [
    "some_list = [\"Item\", \"Item\"]\n",
    "some_set = {\"Item\", \"Item\"}\n",
    "print(some_list)\n",
    "print(some_set)"
   ]
  },
  {
   "cell_type": "markdown",
   "metadata": {},
   "source": [
    "Suppose you wanted to keep track of the names of each student in a classroom. Would you use a set or a list?\n",
    "\n",
    "The answer: It depends on what you're using it for! If you just cared about the unique number of names in your classroom, then a set might be more useful, because it won't keep track of duplicate names. If you wanted something to keep track of all the students in your class, then you should use a list (since people with the same name aren't the same people)!\n",
    "\n",
    "\n",
    "\n",
    "You cannot modify the individual elements in a set, but you can add and remove elements from the set. "
   ]
  },
  {
   "cell_type": "code",
   "execution_count": null,
   "metadata": {},
   "outputs": [],
   "source": [
    "some_set = {\"Item\"}\n",
    "print(some_set)\n",
    "some_set.add(\"Other Item\")\n",
    "print(some_set)\n",
    "some_set.remove(\"Item\")\n",
    "print(some_set)"
   ]
  },
  {
   "cell_type": "markdown",
   "metadata": {},
   "source": [
    "Let's say you asked 10 people what their favorite ice cream flavors are, but just want to know the unique number of favorite flavors they liked. You can use a set to help with this task:"
   ]
  },
  {
   "cell_type": "code",
   "execution_count": null,
   "metadata": {},
   "outputs": [],
   "source": [
    "fav_flavors = {\"strawberry\", \"vanilla\", \"chocolate\", \"green tea\", \"green tea\", \"vanilla\", \"green tea\", \"vanilla\", \"strawberry\", \"pistachio\"}\n",
    "\n",
    "# Remember that once you add those items into the set, the duplicates go away\n",
    "print(fav_flavors)\n",
    "\n",
    "# Print the length of the set\n",
    "print(len(fav_flavors))"
   ]
  },
  {
   "cell_type": "code",
   "execution_count": null,
   "metadata": {},
   "outputs": [],
   "source": [
    "# What if we tried this with a list?\n",
    "\n",
    "fav_flavors = [\"strawberry\", \"vanilla\", \"chocolate\", \"green tea\", \"green tea\", \"vanilla\", \"green tea\", \"vanilla\", \"strawberry\", \"pistachio\"]\n",
    "print(fav_flavors)\n",
    "\n",
    "# Print the length of the list\n",
    "print(len(fav_flavors))"
   ]
  },
  {
   "cell_type": "markdown",
   "metadata": {},
   "source": [
    "There are unique benefits to using either collection, and we'll use both as part of our toolbox when exploring and working with data.\n",
    "\n",
    "**Exercise:** Write a program that asks five people what their favorite animal is, and then returns the number of unique favorite animals.\n",
    "\n",
    "Bonus points for those who use a loop to ask for input and add to the set!"
   ]
  },
  {
   "cell_type": "code",
   "execution_count": null,
   "metadata": {},
   "outputs": [],
   "source": [
    "### YOUR CODE HERE ### \n",
    "\n",
    "### END CODE HERE ### "
   ]
  },
  {
   "cell_type": "markdown",
   "metadata": {},
   "source": [
    "### Dictionaries\n",
    "\n",
    "The last collection we'll cover today is a dictionary, which is used just as you'd expect: like a dictionary.\n",
    "\n",
    "![alt text](https://media.giphy.com/media/umMYB9u0rpJyE/giphy.gif)\n",
    "\n",
    "Ok, so that's not the most helpful of explanations. Let's take a look at an example in code instead:"
   ]
  },
  {
   "cell_type": "code",
   "execution_count": null,
   "metadata": {},
   "outputs": [],
   "source": [
    "# This is how you define a dictionary\n",
    "\n",
    "definition = {\n",
    "    \"flammable\": \"easily set on fire\",\n",
    "    \"inflammable\": \"easily set on fire\",\n",
    "    \"nonflammable\": \"not catching fire easily\"\n",
    "}\n",
    "\n",
    "# In order to access an element in the dictionary, we refer to its \"key\"\n",
    "print(definition[\"flammable\"])"
   ]
  },
  {
   "cell_type": "markdown",
   "metadata": {},
   "source": [
    "In the above example, our dictionary is designed very similarly to an actual dictionary. When we ask for the definition of a word like `flammable`, we get in return a string with its definition `easily set on fire`.\n",
    "\n",
    "In this example, the word itself is called a _key_ and its definition is its _value_. You can think of dictionaries as sets, except every element is a key-value pair. Unlike lists where you access elements by using an integer index, you access elements in a dictionary by using the key."
   ]
  },
  {
   "cell_type": "code",
   "execution_count": null,
   "metadata": {},
   "outputs": [],
   "source": [
    "# Another example of a dictionary, this time with a mix of integer and string values\n",
    "\n",
    "album_1 = {\n",
    "    \"name\": \"Escape from New York\",\n",
    "    \"artist\": \"Beast Coast\",\n",
    "    \"year\": 2019\n",
    "}\n",
    "\n",
    "# How would we print out the artist of album_1?"
   ]
  },
  {
   "cell_type": "markdown",
   "metadata": {},
   "source": [
    "Just like with lists, you can add to dictionaries, remove from dictionaries, print the length of a dictionary, check for specific elements, and many more operations."
   ]
  },
  {
   "cell_type": "code",
   "execution_count": null,
   "metadata": {},
   "outputs": [],
   "source": [
    "album_2 = {\n",
    "    \"name\": \"Sgt. Pepper's Lonely Hearts Club Band\"\n",
    "}\n",
    "\n",
    "# Inserting a new pair, with \"artist\" as the key and \"The Beatles\" as its value\n",
    "album_2[\"artist\"] = \"The Beatles\"\n",
    "print(album_2)\n",
    "\n",
    "album_2[\"year\"] = 1967\n",
    "print(len(album_2))\n",
    "\n",
    "print(\"artist\" in album_2)\n",
    "\n",
    "# Notice what the following will print:\n",
    "print(\"The Beatles\" in album_2)\n",
    "# This is because we can only search a dictionary by key, not by value\n",
    "\n",
    "# Deleting a key-value pair from the dictionary\n",
    "del album_2[\"artist\"]\n",
    "\n",
    "print(album_2)"
   ]
  },
  {
   "cell_type": "code",
   "execution_count": null,
   "metadata": {},
   "outputs": [],
   "source": [
    "album_2 = {\n",
    "    \"name\": \"Sgt. Pepper's Lonely Hearts Club Band\"\n",
    "}\n",
    "\n",
    "# Inserting a new pair, with \"artist\" as the key and \"The Beatles\" as its value\n",
    "album_2[\"artist\"] = \"The Beatles\"\n",
    "print(album_2)\n",
    "\n",
    "album_2[\"year\"] = 1967\n",
    "print(len(album_2))\n",
    "\n",
    "print(\"artist\" in album_2)\n",
    "\n",
    "# Notice what the following will print:\n",
    "print(\"The Beatles\" in album_2)\n",
    "# This is because we can only search a dictionary by key, not by value\n",
    "\n",
    "# Deleting a key-value pair from the dictionary\n",
    "del album_2[\"artist\"]\n",
    "\n",
    "print(album_2)\n",
    "\n",
    "# If you just wanted the keys in a dictionary:\n",
    "print(album_2.keys())\n",
    "\n",
    "# Finally, if you want to clear out the entire dictionary:\n",
    "album_2.clear()\n",
    "print(album_2)"
   ]
  },
  {
   "cell_type": "markdown",
   "metadata": {},
   "source": [
    "Notice that an empty dictionary is printed as `{}`, which at a glance looks like the same as an empty set. If you want to initialize an empty dictionary, you actually need to write `dict()`. Like so:"
   ]
  },
  {
   "cell_type": "code",
   "execution_count": null,
   "metadata": {},
   "outputs": [],
   "source": [
    "empty_dict = dict()\n",
    "empty_set = set()\n",
    "\n",
    "empty_list = []\n",
    "empty_tuple = ()"
   ]
  },
  {
   "cell_type": "markdown",
   "metadata": {},
   "source": [
    "**Exercise:** Write a dictionary that contains the following information:\n",
    "\n",
    "```\n",
    "Issa       1\n",
    "Daniel     3\n",
    "Molly      2\n",
    "Kelli      3\n",
    "Lawrence   2\n",
    "```"
   ]
  },
  {
   "cell_type": "code",
   "execution_count": null,
   "metadata": {},
   "outputs": [],
   "source": [
    "### YOUR CODE HERE ### \n",
    "\n",
    "### END CODE HERE ### "
   ]
  },
  {
   "cell_type": "markdown",
   "metadata": {},
   "source": [
    "**Exercise:** Write a program that asks five people if they prefer pineapple on pizza or no pineapple on pizza. Use a dictionary to keep track of how many votes each option gets, and then print out which of the two options is more popular."
   ]
  },
  {
   "cell_type": "code",
   "execution_count": null,
   "metadata": {
    "scrolled": true
   },
   "outputs": [],
   "source": [
    "# Some code to get you started:\n",
    "### YOUR CODE HERE ### \n",
    "\n",
    "pineapple_votes = {\n",
    "    \"pineapple\": 0,\n",
    "    \"no pineapple\": 0\n",
    "}\n",
    "\n",
    "num = int(input(\"Input 1 if you like pineapple on pizza. Input 0 if you don't like pineapple on pizza: \"))\n",
    "\n",
    "# Fill in the rest!\n",
    "\n",
    "\n",
    "### END CODE HERE ### "
   ]
  },
  {
   "cell_type": "markdown",
   "metadata": {},
   "source": [
    "**Challenge Exercise:** Write a program that asks ten people what their favorite fast food restaurant is, and use a dictionary to keep track of all the votes. Print out which fast food restaurant is the most popular.\n",
    "\n",
    "Since strings are case-sensitive in Python, you should use the function `lower()` to convert all strings into lowercase. This way you won't have duplicate entries based just on capitalization differences. For example:"
   ]
  },
  {
   "cell_type": "code",
   "execution_count": null,
   "metadata": {},
   "outputs": [],
   "source": [
    "### YOUR CODE HERE ### \n",
    "test = \"String\"\n",
    "test = test.lower()\n",
    "print(test)\n",
    "\n",
    "# Your code here: fill in the rest\n",
    "\n",
    "print(\"Most popular restaurant is: \", popular_restaurant )\n",
    "\n",
    "### END CODE HERE ### "
   ]
  },
  {
   "cell_type": "markdown",
   "metadata": {},
   "source": [
    "And that's it for the collections, aka data structures, that we'll be covering!"
   ]
  }
 ],
 "metadata": {
  "colab": {
   "collapsed_sections": [],
   "name": "P2: Python Pt. 2 (Nested Loops, Matrices, Importing, and Calling Functions)",
   "provenance": []
  },
  "kernelspec": {
   "display_name": "Python 3",
   "language": "python",
   "name": "python3"
  },
  "language_info": {
   "codemirror_mode": {
    "name": "ipython",
    "version": 3
   },
   "file_extension": ".py",
   "mimetype": "text/x-python",
   "name": "python",
   "nbconvert_exporter": "python",
   "pygments_lexer": "ipython3",
   "version": "3.8.8"
  }
 },
 "nbformat": 4,
 "nbformat_minor": 1
}
